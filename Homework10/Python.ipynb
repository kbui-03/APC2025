{
 "cells": [
  {
   "cell_type": "code",
   "execution_count": 1,
   "id": "0f146b47",
   "metadata": {},
   "outputs": [
    {
     "name": "stdout",
     "output_type": "stream",
     "text": [
      "Hello world!\n"
     ]
    }
   ],
   "source": [
    "print (\"Hello world!\")"
   ]
  },
  {
   "cell_type": "code",
   "execution_count": 1,
   "id": "7ad298a7",
   "metadata": {},
   "outputs": [
    {
     "name": "stdout",
     "output_type": "stream",
     "text": [
      "Hello, my name is Alice and I am 20 years old.\n",
      "Hello, my name is Bob and I am 22 years old.\n"
     ]
    }
   ],
   "source": [
    "class Student:\n",
    "    def __init__(self, name, age):\n",
    "        self.name = name\n",
    "        self.age = age\n",
    "\n",
    "    def greet(self):\n",
    "        print(f\"Hello, my name is {self.name} and I am {self.age} years old.\")\n",
    "\n",
    "# Example usage\n",
    "if __name__ == \"__main__\":\n",
    "    student1 = Student(\"Alice\", 20)\n",
    "    student1.greet()\n",
    "    \n",
    "    student2 = Student(\"Bob\", 22)\n",
    "    student2.greet()\n",
    "    "
   ]
  },
  {
   "cell_type": "code",
   "execution_count": 3,
   "id": "15098332",
   "metadata": {},
   "outputs": [
    {
     "name": "stdout",
     "output_type": "stream",
     "text": [
      "Current number: 0\n",
      "Current number: 1\n",
      "Current number: 2\n",
      "Current number: 3\n",
      "Current number: 4\n",
      "Current number: 5\n",
      "Current number: 6\n",
      "Current number: 7\n",
      "Current number: 8\n",
      "Current number: 9\n"
     ]
    }
   ],
   "source": [
    "for i in range(10):\n",
    "    print (f\"Current number: {i}\")"
   ]
  },
  {
   "cell_type": "code",
   "execution_count": null,
   "id": "44649ef8",
   "metadata": {},
   "outputs": [
    {
     "name": "stdout",
     "output_type": "stream",
     "text": [
      "Area of the circle: 78.5\n",
      "Area of the shape: None\n"
     ]
    }
   ],
   "source": [
    "from abc import ABC, abstractmethod\n",
    "\n",
    "\n",
    "class Shape(ABC):\n",
    "    @abstractmethod\n",
    "    def getArea(self):\n",
    "        pass\n",
    "\n",
    "class Circle(Shape):\n",
    "    def __init__(self, radius):\n",
    "        self.radius = radius\n",
    "\n",
    "    def getArea(self):\n",
    "        return 3.14 * self.radius * self.radius\n",
    "\n",
    "# Example usage\n",
    "if __name__ == \"__main__\":\n",
    "    circle = Circle(5)\n",
    "    print(f\"Area of the circle: {circle.getArea()}\")\n",
    "    shape = Shape()\n",
    "    print(f\"Area of the shape: {shape.getArea()}\") "
   ]
  },
  {
   "cell_type": "code",
   "execution_count": 12,
   "id": "2843b57c",
   "metadata": {},
   "outputs": [
    {
     "name": "stdout",
     "output_type": "stream",
     "text": [
      "Average grade in Math: 85.0\n",
      "Average grade in Science: 85.0\n",
      "Average grade in History: None\n"
     ]
    }
   ],
   "source": [
    "class Student:\n",
    "    grades = {}\n",
    "    def __init__(self, name):\n",
    "        self.name = name\n",
    "    \n",
    "    def add_grade(self, subject, grade):\n",
    "        if subject not in self.grades:\n",
    "            self.grades[subject] = []\n",
    "        self.grades[subject].append(grade)\n",
    "    \n",
    "    def get_average(self, subject):\n",
    "        if subject in self.grades:\n",
    "            return sum(self.grades[subject]) / len(self.grades[subject])\n",
    "        else:\n",
    "            return None\n",
    "\n",
    "# Example usage\n",
    "if __name__ == \"__main__\":\n",
    "    student = Student(\"Alice\")\n",
    "    student.add_grade(\"Math\", 90)\n",
    "    student.add_grade(\"Math\", 80)\n",
    "    student.add_grade(\"Science\", 85)\n",
    "    \n",
    "    print(f\"Average grade in Math: {student.get_average('Math')}\")\n",
    "    print(f\"Average grade in Science: {student.get_average('Science')}\")\n",
    "    print(f\"Average grade in History: {student.get_average('History')}\")"
   ]
  },
  {
   "cell_type": "code",
   "execution_count": 17,
   "id": "2f4efc8f",
   "metadata": {},
   "outputs": [
    {
     "name": "stdout",
     "output_type": "stream",
     "text": [
      "Inorder traversal of the binary tree:\n",
      "2 3 4 5 7 "
     ]
    }
   ],
   "source": [
    "class Node:\n",
    "    def __init__(self, value, left=None, right=None):\n",
    "        self.value = value\n",
    "        self.left = left\n",
    "        self.right = right\n",
    "    def __add__(self, value):\n",
    "        if value < self.value:\n",
    "            if self.left is None:\n",
    "                self.left = Node(value)\n",
    "            else:\n",
    "                self.left + value\n",
    "        else:\n",
    "            if self.right is None:\n",
    "                self.right = Node(value)\n",
    "            else:\n",
    "                self.right + value\n",
    "    \n",
    "class BinaryTree:\n",
    "    def __init__(self):\n",
    "        self.root = None\n",
    "    \n",
    "    def add(self, value):\n",
    "        if self.root is None:\n",
    "            self.root = Node(value)\n",
    "        else:\n",
    "            self.root + value\n",
    "    \n",
    "    def inorder(self, node):\n",
    "        if node is not None:\n",
    "            self.inorder(node.left)\n",
    "            print(node.value, end=' ')\n",
    "            self.inorder(node.right)\n",
    "    def display(self):\n",
    "        if self.root is not None:\n",
    "            self.inorder(self.root)\n",
    "        else:\n",
    "            print(\"Tree is empty\")\n",
    "\n",
    "# Example usage\n",
    "if __name__ == \"__main__\":\n",
    "    tree = BinaryTree()\n",
    "    tree.add(5)\n",
    "    tree.add(3)\n",
    "    tree.add(7)\n",
    "    tree.add(2)\n",
    "    tree.add(4)\n",
    "    \n",
    "    print(\"Inorder traversal of the binary tree:\")\n",
    "    tree.display()"
   ]
  },
  {
   "cell_type": "code",
   "execution_count": 9,
   "id": "d3558b81",
   "metadata": {},
   "outputs": [
    {
     "name": "stdout",
     "output_type": "stream",
     "text": [
      "All mails:\n",
      "From: alice@example.com, Subject: Hello, Read: False, Date: 2023-10-01 10:00:00\n",
      "From: bob@example.com, Subject: Meeting, Read: False, Date: 2023-10-02 11:00:00\n",
      "Unread mails count: 2\n",
      "From: alice@example.com, Subject: Hello, Read: True, Date: 2023-10-01 10:00:00\n"
     ]
    }
   ],
   "source": [
    "class Mail: \n",
    "    def __init__ (self, sender, subject, message, datetime, read=False):\n",
    "        self.sender = sender\n",
    "        self.subject = subject\n",
    "        self.message = message\n",
    "        self.datetime = datetime\n",
    "        self.read = read\n",
    "    def mark_as_read(self):\n",
    "        self.read = True\n",
    "    def __str__(self):\n",
    "        return f\"From: {self.sender}, Subject: {self.subject}, Read: {self.read}, Date: {self.datetime}\"\n",
    "\n",
    "class Mailbox:\n",
    "    def __init__(self):\n",
    "        self.mails = []\n",
    "\n",
    "    def add_mail(self, mail):\n",
    "        if isinstance(mail, Mail):\n",
    "            self.mails.append(mail)\n",
    "        else:\n",
    "            raise TypeError(\"Only Mail objects can be added to the mailbox\")\n",
    "        \n",
    "    def get_all_mails(self):\n",
    "        for mail in self.mails:\n",
    "            print(mail)\n",
    "\n",
    "    def get_mail(self, index):\n",
    "        if 0 <= index < len(self.mails):\n",
    "            self.mails[index].mark_as_read()\n",
    "            print(self.mails[index])\n",
    "        else:\n",
    "            raise IndexError(\"Mail index out of range\")\n",
    "        \n",
    "    def count_unread_mails(self):\n",
    "        i = 0\n",
    "        while i < len(self.mails):\n",
    "            if not self.mails[i].read:\n",
    "                i += 1\n",
    "        return i\n",
    "    \n",
    "# Example usage\n",
    "if __name__ == \"__main__\":\n",
    "    mailbox = Mailbox()\n",
    "    mail1 = Mail(\"alice@example.com\", \"Hello\", \"Hi there!\", \"2023-10-01 10:00:00\")\n",
    "    mail2 = Mail(\"bob@example.com\", \"Meeting\", \"Let's schedule a meeting.\", \"2023-10-02 11:00:00\")\n",
    "    mailbox.add_mail(mail1)\n",
    "    mailbox.add_mail(mail2)\n",
    "    print(\"All mails:\")\n",
    "    mailbox.get_all_mails()\n",
    "    print(f\"Unread mails count: {mailbox.count_unread_mails()}\")\n",
    "    mailbox.get_mail(0)"
   ]
  }
 ],
 "metadata": {
  "kernelspec": {
   "display_name": "base",
   "language": "python",
   "name": "python3"
  },
  "language_info": {
   "codemirror_mode": {
    "name": "ipython",
    "version": 3
   },
   "file_extension": ".py",
   "mimetype": "text/x-python",
   "name": "python",
   "nbconvert_exporter": "python",
   "pygments_lexer": "ipython3",
   "version": "3.12.7"
  }
 },
 "nbformat": 4,
 "nbformat_minor": 5
}
