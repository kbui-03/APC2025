{
 "cells": [
  {
   "cell_type": "code",
   "execution_count": 12,
   "id": "1b61bd70",
   "metadata": {},
   "outputs": [
    {
     "name": "stdout",
     "output_type": "stream",
     "text": [
      "['Alice 1', 'Bob 2', 'Charlie 3']\n",
      "['Alice 1', 'Bob 2', 'Charlie 3']\n"
     ]
    }
   ],
   "source": [
    "class LearningGroup: \n",
    "    def __init__(self):\n",
    "        self.studentList = []\n",
    "    \n",
    "    def __str__(self):\n",
    "        return str([str(student) for student in self.studentList])\n",
    "    \n",
    "    def __add__(self, other):\n",
    "        if isinstance(other, Student):\n",
    "            self.studentList.append(other)\n",
    "            return self\n",
    "        elif isinstance(other, LearningGroup):\n",
    "            self.studentList.extend(other.studentList)\n",
    "            return self\n",
    "        else:\n",
    "            raise TypeError(\"Can only add a Student or another LearningGroup instance\")\n",
    "\n",
    "class Student:\n",
    "    def __init__(self, name, matNr):\n",
    "        self.name = name\n",
    "        self.matNr = matNr\n",
    "\n",
    "    def __str__(self):\n",
    "        return self.name + ' ' + str(self.matNr)\n",
    "    \n",
    "    def __add__(self, other):\n",
    "        if isinstance(other, Student):\n",
    "            group = LearningGroup()\n",
    "            group.studentList.append(self)\n",
    "            group.studentList.append(other)\n",
    "            return group\n",
    "        else:\n",
    "            raise TypeError(\"Can only add another Student instance\")\n",
    "    \n",
    "if __name__ == \"__main__\":\n",
    "    student1 = Student('Alice', 1)\n",
    "    student2 = Student('Bob', 2)\n",
    "    student3 = Student('Charlie', 3)\n",
    "    group = student1 + student2\n",
    "    group = group + student3\n",
    "    group2 = student1 + student2 + student3\n",
    "    print(group)\n",
    "    print(group2)\n"
   ]
  },
  {
   "cell_type": "code",
   "execution_count": null,
   "id": "a56d9d6a",
   "metadata": {},
   "outputs": [
    {
     "name": "stdout",
     "output_type": "stream",
     "text": [
      "Result: 3.0\n"
     ]
    }
   ],
   "source": [
    "if __name__ == \"__main__\":\n",
    "    try:\n",
    "        num_str = input(\"Enter numerator: \")\n",
    "        den_str = input(\"Enter denominator: \")\n",
    "        num = float(num_str)    \n",
    "        den = float(den_str)\n",
    "        result = (num / den)\n",
    "        print(f\"Result: {result}\")\n",
    "    except ValueError:\n",
    "        print(\"Invalid input, please enter numeric values.\")\n",
    "    except ZeroDivisionError:\n",
    "        print(\"Cannot divide by zero.\")"
   ]
  }
 ],
 "metadata": {
  "kernelspec": {
   "display_name": "base",
   "language": "python",
   "name": "python3"
  },
  "language_info": {
   "codemirror_mode": {
    "name": "ipython",
    "version": 3
   },
   "file_extension": ".py",
   "mimetype": "text/x-python",
   "name": "python",
   "nbconvert_exporter": "python",
   "pygments_lexer": "ipython3",
   "version": "3.12.7"
  }
 },
 "nbformat": 4,
 "nbformat_minor": 5
}
